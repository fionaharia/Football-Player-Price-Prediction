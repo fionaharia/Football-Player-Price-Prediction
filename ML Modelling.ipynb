{
 "cells": [
  {
   "cell_type": "markdown",
   "id": "203bc3b7-787d-489b-aec4-1d4923c32e15",
   "metadata": {},
   "source": [
    "# FIONA HARIA 60009220048 D1-1 <br> ML MODELLING <BR> Predicting Football Player Price Prediction"
   ]
  },
  {
   "cell_type": "markdown",
   "id": "9fa08717-86bd-4834-a64f-0b78f7b05bb9",
   "metadata": {},
   "source": [
    "## Importing the Libraries"
   ]
  },
  {
   "cell_type": "code",
   "execution_count": 2,
   "id": "fd97af81-8645-4ae7-85b9-cb467b0e57cb",
   "metadata": {},
   "outputs": [],
   "source": [
    "import numpy as np\n",
    "import pandas as pd\n",
    "import matplotlib.pyplot as plt\n",
    "import seaborn as sns\n",
    "from sklearn.utils import shuffle\n",
    "from sklearn.model_selection import train_test_split,GridSearchCV\n",
    "from sklearn.linear_model import LinearRegression\n",
    "from sklearn.tree import DecisionTreeRegressor\n",
    "from sklearn.ensemble import RandomForestRegressor\n",
    "from sklearn.svm import SVR\n",
    "from sklearn.metrics import r2_score,mean_squared_error,accuracy_score\n",
    "from sklearn.preprocessing import StandardScaler\n",
    "import warnings\n",
    "warnings.filterwarnings('ignore')"
   ]
  },
  {
   "cell_type": "markdown",
   "id": "bc38fb62-4cd9-4f0b-8ed6-28e85f375fa6",
   "metadata": {},
   "source": [
    "## Loading the training datatset"
   ]
  },
  {
   "cell_type": "code",
   "execution_count": 3,
   "id": "47ccdf05-c3d2-4154-ae54-10bcc6d6a47f",
   "metadata": {},
   "outputs": [],
   "source": [
    "df_train = pd.read_csv('train.csv')"
   ]
  },
  {
   "cell_type": "markdown",
   "id": "2a542be7-d6c8-4cd4-9a88-8d670d3222fd",
   "metadata": {},
   "source": [
    "## Splitting into X and y sets"
   ]
  },
  {
   "cell_type": "code",
   "execution_count": 4,
   "id": "ff21b345-bf8f-4009-aa2c-3413c326343f",
   "metadata": {},
   "outputs": [],
   "source": [
    "X=df_train.drop(['Name','Value €'],axis=1)\n",
    "y=df_train.iloc[:,2]"
   ]
  },
  {
   "cell_type": "code",
   "execution_count": 5,
   "id": "013d17ba-7d13-45b8-974b-780b31fe3ade",
   "metadata": {},
   "outputs": [
    {
     "data": {
      "text/plain": [
       "Age                 int64\n",
       "Wage €            float64\n",
       "Ball Control        int64\n",
       "Dribbling           int64\n",
       "Marking             int64\n",
       "Slide Tackle        int64\n",
       "Stand Tackle        int64\n",
       "Aggression          int64\n",
       "Reactions           int64\n",
       "Att. Position       int64\n",
       "Interceptions       int64\n",
       "Vision              int64\n",
       "Composure           int64\n",
       "Crossing            int64\n",
       "Short Pass          int64\n",
       "Long pass           int64\n",
       "Acceleration        int64\n",
       "Stamina             int64\n",
       "Strength            int64\n",
       "Balance             int64\n",
       "Sprint Speed        int64\n",
       "Agility             int64\n",
       "Jumping             int64\n",
       "Heading             int64\n",
       "Shot Power          int64\n",
       "Finishing           int64\n",
       "Long Shots          int64\n",
       "Curve               int64\n",
       "FK Acc.             int64\n",
       "Penalties           int64\n",
       "Volleys             int64\n",
       "GK Positioning      int64\n",
       "GK Diving           int64\n",
       "GK Handling         int64\n",
       "GK Kicking          int64\n",
       "GK Reflexes         int64\n",
       "dtype: object"
      ]
     },
     "execution_count": 5,
     "metadata": {},
     "output_type": "execute_result"
    }
   ],
   "source": [
    "X.dtypes"
   ]
  },
  {
   "cell_type": "code",
   "execution_count": 6,
   "id": "a4fbfde8-a5a6-45ca-bc44-adf784e04348",
   "metadata": {},
   "outputs": [],
   "source": [
    "X_train,X_test,y_train,y_test=train_test_split(X,y,test_size=0.3)"
   ]
  },
  {
   "cell_type": "markdown",
   "id": "ea4aff5b-99b7-4fe2-8d20-0cf92f534f5b",
   "metadata": {},
   "source": [
    "## Scaling the dataset"
   ]
  },
  {
   "cell_type": "markdown",
   "id": "82285066-9cfc-4248-8628-5202749d7033",
   "metadata": {},
   "source": [
    "### We will train our dataset on both the the scaled and un-scaled data to see if standardiasation is better"
   ]
  },
  {
   "cell_type": "code",
   "execution_count": 7,
   "id": "399ed6e2-9b1b-4080-8114-b49671cb25f3",
   "metadata": {},
   "outputs": [],
   "source": [
    "Xscaled=StandardScaler().fit(X).transform(X)"
   ]
  },
  {
   "cell_type": "code",
   "execution_count": 8,
   "id": "ec744d26-380f-48f7-9c3b-75c383c070ee",
   "metadata": {},
   "outputs": [],
   "source": [
    "X_trainscaled,X_testscaled,y_trainscaled,y_testscaled=train_test_split(Xscaled,y,test_size=0.3)"
   ]
  },
  {
   "cell_type": "markdown",
   "id": "7ce8d2cf-6c77-4451-999a-a72d0efd1e72",
   "metadata": {},
   "source": [
    "## Using regression models for football player price prediction leverages its ability to model continuous relationships between player attributes and market value, offering accurate predictions and"
   ]
  },
  {
   "cell_type": "markdown",
   "id": "397dcf9f-e764-43d0-9ee6-038f55f463a1",
   "metadata": {},
   "source": [
    "# Linear Regression"
   ]
  },
  {
   "cell_type": "markdown",
   "id": "b41a1337-2ebb-4a9b-9cd0-f124c051bc53",
   "metadata": {},
   "source": [
    "### (without scaling)"
   ]
  },
  {
   "cell_type": "code",
   "execution_count": 9,
   "id": "b20c46e5-6897-465f-ae29-ed550c53b75f",
   "metadata": {},
   "outputs": [],
   "source": [
    "regr = LinearRegression()\n",
    "fitregr=regr.fit(X_train, y_train)\n",
    "y_pred=fitregr.predict(X_test)"
   ]
  },
  {
   "cell_type": "code",
   "execution_count": 10,
   "id": "fccef7c3-b7dd-4b4a-8bea-97d518860597",
   "metadata": {},
   "outputs": [
    {
     "name": "stdout",
     "output_type": "stream",
     "text": [
      "Linear model, R2 test score is : 0.6923829236911446 and the test root mean square without scaling is: 4257637.897708077\n"
     ]
    }
   ],
   "source": [
    "print('Linear model, R2 test score is : {} and the test root mean square without scaling is: {}'\n",
    "     .format(r2_score(y_test, y_pred),(np.sqrt(mean_squared_error(y_pred,y_test )))))"
   ]
  },
  {
   "cell_type": "markdown",
   "id": "d8f81ab3-b145-4f5e-9f1a-fb6019cb209a",
   "metadata": {},
   "source": [
    "### (with scaling)"
   ]
  },
  {
   "cell_type": "code",
   "execution_count": 11,
   "id": "94f4b8de-88d0-476c-a9ce-4c8a9bf01aeb",
   "metadata": {},
   "outputs": [
    {
     "data": {
      "text/html": [
       "<style>#sk-container-id-1 {\n",
       "  /* Definition of color scheme common for light and dark mode */\n",
       "  --sklearn-color-text: black;\n",
       "  --sklearn-color-line: gray;\n",
       "  /* Definition of color scheme for unfitted estimators */\n",
       "  --sklearn-color-unfitted-level-0: #fff5e6;\n",
       "  --sklearn-color-unfitted-level-1: #f6e4d2;\n",
       "  --sklearn-color-unfitted-level-2: #ffe0b3;\n",
       "  --sklearn-color-unfitted-level-3: chocolate;\n",
       "  /* Definition of color scheme for fitted estimators */\n",
       "  --sklearn-color-fitted-level-0: #f0f8ff;\n",
       "  --sklearn-color-fitted-level-1: #d4ebff;\n",
       "  --sklearn-color-fitted-level-2: #b3dbfd;\n",
       "  --sklearn-color-fitted-level-3: cornflowerblue;\n",
       "\n",
       "  /* Specific color for light theme */\n",
       "  --sklearn-color-text-on-default-background: var(--sg-text-color, var(--theme-code-foreground, var(--jp-content-font-color1, black)));\n",
       "  --sklearn-color-background: var(--sg-background-color, var(--theme-background, var(--jp-layout-color0, white)));\n",
       "  --sklearn-color-border-box: var(--sg-text-color, var(--theme-code-foreground, var(--jp-content-font-color1, black)));\n",
       "  --sklearn-color-icon: #696969;\n",
       "\n",
       "  @media (prefers-color-scheme: dark) {\n",
       "    /* Redefinition of color scheme for dark theme */\n",
       "    --sklearn-color-text-on-default-background: var(--sg-text-color, var(--theme-code-foreground, var(--jp-content-font-color1, white)));\n",
       "    --sklearn-color-background: var(--sg-background-color, var(--theme-background, var(--jp-layout-color0, #111)));\n",
       "    --sklearn-color-border-box: var(--sg-text-color, var(--theme-code-foreground, var(--jp-content-font-color1, white)));\n",
       "    --sklearn-color-icon: #878787;\n",
       "  }\n",
       "}\n",
       "\n",
       "#sk-container-id-1 {\n",
       "  color: var(--sklearn-color-text);\n",
       "}\n",
       "\n",
       "#sk-container-id-1 pre {\n",
       "  padding: 0;\n",
       "}\n",
       "\n",
       "#sk-container-id-1 input.sk-hidden--visually {\n",
       "  border: 0;\n",
       "  clip: rect(1px 1px 1px 1px);\n",
       "  clip: rect(1px, 1px, 1px, 1px);\n",
       "  height: 1px;\n",
       "  margin: -1px;\n",
       "  overflow: hidden;\n",
       "  padding: 0;\n",
       "  position: absolute;\n",
       "  width: 1px;\n",
       "}\n",
       "\n",
       "#sk-container-id-1 div.sk-dashed-wrapped {\n",
       "  border: 1px dashed var(--sklearn-color-line);\n",
       "  margin: 0 0.4em 0.5em 0.4em;\n",
       "  box-sizing: border-box;\n",
       "  padding-bottom: 0.4em;\n",
       "  background-color: var(--sklearn-color-background);\n",
       "}\n",
       "\n",
       "#sk-container-id-1 div.sk-container {\n",
       "  /* jupyter's `normalize.less` sets `[hidden] { display: none; }`\n",
       "     but bootstrap.min.css set `[hidden] { display: none !important; }`\n",
       "     so we also need the `!important` here to be able to override the\n",
       "     default hidden behavior on the sphinx rendered scikit-learn.org.\n",
       "     See: https://github.com/scikit-learn/scikit-learn/issues/21755 */\n",
       "  display: inline-block !important;\n",
       "  position: relative;\n",
       "}\n",
       "\n",
       "#sk-container-id-1 div.sk-text-repr-fallback {\n",
       "  display: none;\n",
       "}\n",
       "\n",
       "div.sk-parallel-item,\n",
       "div.sk-serial,\n",
       "div.sk-item {\n",
       "  /* draw centered vertical line to link estimators */\n",
       "  background-image: linear-gradient(var(--sklearn-color-text-on-default-background), var(--sklearn-color-text-on-default-background));\n",
       "  background-size: 2px 100%;\n",
       "  background-repeat: no-repeat;\n",
       "  background-position: center center;\n",
       "}\n",
       "\n",
       "/* Parallel-specific style estimator block */\n",
       "\n",
       "#sk-container-id-1 div.sk-parallel-item::after {\n",
       "  content: \"\";\n",
       "  width: 100%;\n",
       "  border-bottom: 2px solid var(--sklearn-color-text-on-default-background);\n",
       "  flex-grow: 1;\n",
       "}\n",
       "\n",
       "#sk-container-id-1 div.sk-parallel {\n",
       "  display: flex;\n",
       "  align-items: stretch;\n",
       "  justify-content: center;\n",
       "  background-color: var(--sklearn-color-background);\n",
       "  position: relative;\n",
       "}\n",
       "\n",
       "#sk-container-id-1 div.sk-parallel-item {\n",
       "  display: flex;\n",
       "  flex-direction: column;\n",
       "}\n",
       "\n",
       "#sk-container-id-1 div.sk-parallel-item:first-child::after {\n",
       "  align-self: flex-end;\n",
       "  width: 50%;\n",
       "}\n",
       "\n",
       "#sk-container-id-1 div.sk-parallel-item:last-child::after {\n",
       "  align-self: flex-start;\n",
       "  width: 50%;\n",
       "}\n",
       "\n",
       "#sk-container-id-1 div.sk-parallel-item:only-child::after {\n",
       "  width: 0;\n",
       "}\n",
       "\n",
       "/* Serial-specific style estimator block */\n",
       "\n",
       "#sk-container-id-1 div.sk-serial {\n",
       "  display: flex;\n",
       "  flex-direction: column;\n",
       "  align-items: center;\n",
       "  background-color: var(--sklearn-color-background);\n",
       "  padding-right: 1em;\n",
       "  padding-left: 1em;\n",
       "}\n",
       "\n",
       "\n",
       "/* Toggleable style: style used for estimator/Pipeline/ColumnTransformer box that is\n",
       "clickable and can be expanded/collapsed.\n",
       "- Pipeline and ColumnTransformer use this feature and define the default style\n",
       "- Estimators will overwrite some part of the style using the `sk-estimator` class\n",
       "*/\n",
       "\n",
       "/* Pipeline and ColumnTransformer style (default) */\n",
       "\n",
       "#sk-container-id-1 div.sk-toggleable {\n",
       "  /* Default theme specific background. It is overwritten whether we have a\n",
       "  specific estimator or a Pipeline/ColumnTransformer */\n",
       "  background-color: var(--sklearn-color-background);\n",
       "}\n",
       "\n",
       "/* Toggleable label */\n",
       "#sk-container-id-1 label.sk-toggleable__label {\n",
       "  cursor: pointer;\n",
       "  display: block;\n",
       "  width: 100%;\n",
       "  margin-bottom: 0;\n",
       "  padding: 0.5em;\n",
       "  box-sizing: border-box;\n",
       "  text-align: center;\n",
       "}\n",
       "\n",
       "#sk-container-id-1 label.sk-toggleable__label-arrow:before {\n",
       "  /* Arrow on the left of the label */\n",
       "  content: \"▸\";\n",
       "  float: left;\n",
       "  margin-right: 0.25em;\n",
       "  color: var(--sklearn-color-icon);\n",
       "}\n",
       "\n",
       "#sk-container-id-1 label.sk-toggleable__label-arrow:hover:before {\n",
       "  color: var(--sklearn-color-text);\n",
       "}\n",
       "\n",
       "/* Toggleable content - dropdown */\n",
       "\n",
       "#sk-container-id-1 div.sk-toggleable__content {\n",
       "  max-height: 0;\n",
       "  max-width: 0;\n",
       "  overflow: hidden;\n",
       "  text-align: left;\n",
       "  /* unfitted */\n",
       "  background-color: var(--sklearn-color-unfitted-level-0);\n",
       "}\n",
       "\n",
       "#sk-container-id-1 div.sk-toggleable__content.fitted {\n",
       "  /* fitted */\n",
       "  background-color: var(--sklearn-color-fitted-level-0);\n",
       "}\n",
       "\n",
       "#sk-container-id-1 div.sk-toggleable__content pre {\n",
       "  margin: 0.2em;\n",
       "  border-radius: 0.25em;\n",
       "  color: var(--sklearn-color-text);\n",
       "  /* unfitted */\n",
       "  background-color: var(--sklearn-color-unfitted-level-0);\n",
       "}\n",
       "\n",
       "#sk-container-id-1 div.sk-toggleable__content.fitted pre {\n",
       "  /* unfitted */\n",
       "  background-color: var(--sklearn-color-fitted-level-0);\n",
       "}\n",
       "\n",
       "#sk-container-id-1 input.sk-toggleable__control:checked~div.sk-toggleable__content {\n",
       "  /* Expand drop-down */\n",
       "  max-height: 200px;\n",
       "  max-width: 100%;\n",
       "  overflow: auto;\n",
       "}\n",
       "\n",
       "#sk-container-id-1 input.sk-toggleable__control:checked~label.sk-toggleable__label-arrow:before {\n",
       "  content: \"▾\";\n",
       "}\n",
       "\n",
       "/* Pipeline/ColumnTransformer-specific style */\n",
       "\n",
       "#sk-container-id-1 div.sk-label input.sk-toggleable__control:checked~label.sk-toggleable__label {\n",
       "  color: var(--sklearn-color-text);\n",
       "  background-color: var(--sklearn-color-unfitted-level-2);\n",
       "}\n",
       "\n",
       "#sk-container-id-1 div.sk-label.fitted input.sk-toggleable__control:checked~label.sk-toggleable__label {\n",
       "  background-color: var(--sklearn-color-fitted-level-2);\n",
       "}\n",
       "\n",
       "/* Estimator-specific style */\n",
       "\n",
       "/* Colorize estimator box */\n",
       "#sk-container-id-1 div.sk-estimator input.sk-toggleable__control:checked~label.sk-toggleable__label {\n",
       "  /* unfitted */\n",
       "  background-color: var(--sklearn-color-unfitted-level-2);\n",
       "}\n",
       "\n",
       "#sk-container-id-1 div.sk-estimator.fitted input.sk-toggleable__control:checked~label.sk-toggleable__label {\n",
       "  /* fitted */\n",
       "  background-color: var(--sklearn-color-fitted-level-2);\n",
       "}\n",
       "\n",
       "#sk-container-id-1 div.sk-label label.sk-toggleable__label,\n",
       "#sk-container-id-1 div.sk-label label {\n",
       "  /* The background is the default theme color */\n",
       "  color: var(--sklearn-color-text-on-default-background);\n",
       "}\n",
       "\n",
       "/* On hover, darken the color of the background */\n",
       "#sk-container-id-1 div.sk-label:hover label.sk-toggleable__label {\n",
       "  color: var(--sklearn-color-text);\n",
       "  background-color: var(--sklearn-color-unfitted-level-2);\n",
       "}\n",
       "\n",
       "/* Label box, darken color on hover, fitted */\n",
       "#sk-container-id-1 div.sk-label.fitted:hover label.sk-toggleable__label.fitted {\n",
       "  color: var(--sklearn-color-text);\n",
       "  background-color: var(--sklearn-color-fitted-level-2);\n",
       "}\n",
       "\n",
       "/* Estimator label */\n",
       "\n",
       "#sk-container-id-1 div.sk-label label {\n",
       "  font-family: monospace;\n",
       "  font-weight: bold;\n",
       "  display: inline-block;\n",
       "  line-height: 1.2em;\n",
       "}\n",
       "\n",
       "#sk-container-id-1 div.sk-label-container {\n",
       "  text-align: center;\n",
       "}\n",
       "\n",
       "/* Estimator-specific */\n",
       "#sk-container-id-1 div.sk-estimator {\n",
       "  font-family: monospace;\n",
       "  border: 1px dotted var(--sklearn-color-border-box);\n",
       "  border-radius: 0.25em;\n",
       "  box-sizing: border-box;\n",
       "  margin-bottom: 0.5em;\n",
       "  /* unfitted */\n",
       "  background-color: var(--sklearn-color-unfitted-level-0);\n",
       "}\n",
       "\n",
       "#sk-container-id-1 div.sk-estimator.fitted {\n",
       "  /* fitted */\n",
       "  background-color: var(--sklearn-color-fitted-level-0);\n",
       "}\n",
       "\n",
       "/* on hover */\n",
       "#sk-container-id-1 div.sk-estimator:hover {\n",
       "  /* unfitted */\n",
       "  background-color: var(--sklearn-color-unfitted-level-2);\n",
       "}\n",
       "\n",
       "#sk-container-id-1 div.sk-estimator.fitted:hover {\n",
       "  /* fitted */\n",
       "  background-color: var(--sklearn-color-fitted-level-2);\n",
       "}\n",
       "\n",
       "/* Specification for estimator info (e.g. \"i\" and \"?\") */\n",
       "\n",
       "/* Common style for \"i\" and \"?\" */\n",
       "\n",
       ".sk-estimator-doc-link,\n",
       "a:link.sk-estimator-doc-link,\n",
       "a:visited.sk-estimator-doc-link {\n",
       "  float: right;\n",
       "  font-size: smaller;\n",
       "  line-height: 1em;\n",
       "  font-family: monospace;\n",
       "  background-color: var(--sklearn-color-background);\n",
       "  border-radius: 1em;\n",
       "  height: 1em;\n",
       "  width: 1em;\n",
       "  text-decoration: none !important;\n",
       "  margin-left: 1ex;\n",
       "  /* unfitted */\n",
       "  border: var(--sklearn-color-unfitted-level-1) 1pt solid;\n",
       "  color: var(--sklearn-color-unfitted-level-1);\n",
       "}\n",
       "\n",
       ".sk-estimator-doc-link.fitted,\n",
       "a:link.sk-estimator-doc-link.fitted,\n",
       "a:visited.sk-estimator-doc-link.fitted {\n",
       "  /* fitted */\n",
       "  border: var(--sklearn-color-fitted-level-1) 1pt solid;\n",
       "  color: var(--sklearn-color-fitted-level-1);\n",
       "}\n",
       "\n",
       "/* On hover */\n",
       "div.sk-estimator:hover .sk-estimator-doc-link:hover,\n",
       ".sk-estimator-doc-link:hover,\n",
       "div.sk-label-container:hover .sk-estimator-doc-link:hover,\n",
       ".sk-estimator-doc-link:hover {\n",
       "  /* unfitted */\n",
       "  background-color: var(--sklearn-color-unfitted-level-3);\n",
       "  color: var(--sklearn-color-background);\n",
       "  text-decoration: none;\n",
       "}\n",
       "\n",
       "div.sk-estimator.fitted:hover .sk-estimator-doc-link.fitted:hover,\n",
       ".sk-estimator-doc-link.fitted:hover,\n",
       "div.sk-label-container:hover .sk-estimator-doc-link.fitted:hover,\n",
       ".sk-estimator-doc-link.fitted:hover {\n",
       "  /* fitted */\n",
       "  background-color: var(--sklearn-color-fitted-level-3);\n",
       "  color: var(--sklearn-color-background);\n",
       "  text-decoration: none;\n",
       "}\n",
       "\n",
       "/* Span, style for the box shown on hovering the info icon */\n",
       ".sk-estimator-doc-link span {\n",
       "  display: none;\n",
       "  z-index: 9999;\n",
       "  position: relative;\n",
       "  font-weight: normal;\n",
       "  right: .2ex;\n",
       "  padding: .5ex;\n",
       "  margin: .5ex;\n",
       "  width: min-content;\n",
       "  min-width: 20ex;\n",
       "  max-width: 50ex;\n",
       "  color: var(--sklearn-color-text);\n",
       "  box-shadow: 2pt 2pt 4pt #999;\n",
       "  /* unfitted */\n",
       "  background: var(--sklearn-color-unfitted-level-0);\n",
       "  border: .5pt solid var(--sklearn-color-unfitted-level-3);\n",
       "}\n",
       "\n",
       ".sk-estimator-doc-link.fitted span {\n",
       "  /* fitted */\n",
       "  background: var(--sklearn-color-fitted-level-0);\n",
       "  border: var(--sklearn-color-fitted-level-3);\n",
       "}\n",
       "\n",
       ".sk-estimator-doc-link:hover span {\n",
       "  display: block;\n",
       "}\n",
       "\n",
       "/* \"?\"-specific style due to the `<a>` HTML tag */\n",
       "\n",
       "#sk-container-id-1 a.estimator_doc_link {\n",
       "  float: right;\n",
       "  font-size: 1rem;\n",
       "  line-height: 1em;\n",
       "  font-family: monospace;\n",
       "  background-color: var(--sklearn-color-background);\n",
       "  border-radius: 1rem;\n",
       "  height: 1rem;\n",
       "  width: 1rem;\n",
       "  text-decoration: none;\n",
       "  /* unfitted */\n",
       "  color: var(--sklearn-color-unfitted-level-1);\n",
       "  border: var(--sklearn-color-unfitted-level-1) 1pt solid;\n",
       "}\n",
       "\n",
       "#sk-container-id-1 a.estimator_doc_link.fitted {\n",
       "  /* fitted */\n",
       "  border: var(--sklearn-color-fitted-level-1) 1pt solid;\n",
       "  color: var(--sklearn-color-fitted-level-1);\n",
       "}\n",
       "\n",
       "/* On hover */\n",
       "#sk-container-id-1 a.estimator_doc_link:hover {\n",
       "  /* unfitted */\n",
       "  background-color: var(--sklearn-color-unfitted-level-3);\n",
       "  color: var(--sklearn-color-background);\n",
       "  text-decoration: none;\n",
       "}\n",
       "\n",
       "#sk-container-id-1 a.estimator_doc_link.fitted:hover {\n",
       "  /* fitted */\n",
       "  background-color: var(--sklearn-color-fitted-level-3);\n",
       "}\n",
       "</style><div id=\"sk-container-id-1\" class=\"sk-top-container\"><div class=\"sk-text-repr-fallback\"><pre>LinearRegression()</pre><b>In a Jupyter environment, please rerun this cell to show the HTML representation or trust the notebook. <br />On GitHub, the HTML representation is unable to render, please try loading this page with nbviewer.org.</b></div><div class=\"sk-container\" hidden><div class=\"sk-item\"><div class=\"sk-estimator fitted sk-toggleable\"><input class=\"sk-toggleable__control sk-hidden--visually\" id=\"sk-estimator-id-1\" type=\"checkbox\" checked><label for=\"sk-estimator-id-1\" class=\"sk-toggleable__label fitted sk-toggleable__label-arrow fitted\">&nbsp;&nbsp;LinearRegression<a class=\"sk-estimator-doc-link fitted\" rel=\"noreferrer\" target=\"_blank\" href=\"https://scikit-learn.org/1.4/modules/generated/sklearn.linear_model.LinearRegression.html\">?<span>Documentation for LinearRegression</span></a><span class=\"sk-estimator-doc-link fitted\">i<span>Fitted</span></span></label><div class=\"sk-toggleable__content fitted\"><pre>LinearRegression()</pre></div> </div></div></div></div>"
      ],
      "text/plain": [
       "LinearRegression()"
      ]
     },
     "execution_count": 11,
     "metadata": {},
     "output_type": "execute_result"
    }
   ],
   "source": [
    "scalereg = LinearRegression()\n",
    "scalereg.fit(X_trainscaled, y_trainscaled)"
   ]
  },
  {
   "cell_type": "code",
   "execution_count": 12,
   "id": "0709e8aa-eb67-45f3-b17b-6340f327b2ca",
   "metadata": {},
   "outputs": [
    {
     "name": "stdout",
     "output_type": "stream",
     "text": [
      "Linear model, R2 test score is : 0.6752219961785132 and the test root mean square without scaling is: 4344247.279966679\n"
     ]
    }
   ],
   "source": [
    "y_pred=scalereg.predict(X_testscaled)\n",
    "print('Linear model, R2 test score is : {} and the test root mean square without scaling is: {}'\n",
    "     .format(r2_score(y_testscaled, y_pred),(np.sqrt(mean_squared_error(y_pred,y_testscaled)))))"
   ]
  },
  {
   "cell_type": "markdown",
   "id": "6affdea6-463a-4316-8d31-9a2dd8263284",
   "metadata": {},
   "source": [
    "### *The results on data without scaling is better than scaled data <br> Linear Regression Accuracy = 0.71*"
   ]
  },
  {
   "cell_type": "markdown",
   "id": "9c7f2121-6ad1-40eb-9629-0992a91d3a4f",
   "metadata": {},
   "source": [
    "# Random Forest Regressor"
   ]
  },
  {
   "cell_type": "code",
   "execution_count": 13,
   "id": "0f31fbb7-4f30-48fa-b607-a3271f2aba72",
   "metadata": {},
   "outputs": [],
   "source": [
    "RFmodel = RandomForestRegressor()\n",
    "\n",
    "\n",
    "param = {'n_estimators' : [400,450,480], \n",
    "         'max_depth' : [100,120,140],\n",
    "         'min_samples_split':[4],\n",
    "         'min_samples_leaf':[2],\n",
    "         'bootstrap' : [True]\n",
    "        }\n",
    "\n",
    "gridSearch_RandomForest=GridSearchCV(RFmodel,param,scoring='r2',cv=3)\n",
    "gridSearch_RandomForest.fit(X_train,y_train)\n",
    "\n",
    "best_randomForest=gridSearch_RandomForest.best_estimator_\n",
    "bestRandomForest_testScore=best_randomForest.score(X_test,y_test)"
   ]
  },
  {
   "cell_type": "code",
   "execution_count": 14,
   "id": "34bd4756-5bbf-463c-8bc1-6421fef615b2",
   "metadata": {},
   "outputs": [
    {
     "name": "stdout",
     "output_type": "stream",
     "text": [
      "The best Random Forest R2 train score is : 0.85 with n estimators = 450.00, max depth : 140.00, min samples split : 4 and min samples leaf : 2  \n",
      " \n",
      "The best Random Forest R2 test score is : 0.89 with n estimators = 450.00, max depth : 140.00, min samples split : 4 and min samples leaf : 2  \n",
      " \n"
     ]
    }
   ],
   "source": [
    "print('The best Random Forest R2 train score is : {:.2f} with n estimators = {:.2f}, max depth : {:.2f}, min samples split : {} and min samples leaf : {}  \\n \\\n",
    "'.format(gridSearch_RandomForest.best_score_,gridSearch_RandomForest.best_params_['n_estimators'],gridSearch_RandomForest.best_params_['max_depth'],gridSearch_RandomForest.best_params_['min_samples_split'],gridSearch_RandomForest.best_params_['min_samples_leaf'] ))\n",
    "print('The best Random Forest R2 test score is : {:.2f} with n estimators = {:.2f}, max depth : {:.2f}, min samples split : {} and min samples leaf : {}  \\n \\\n",
    "'.format(bestRandomForest_testScore,gridSearch_RandomForest.best_params_['n_estimators'],gridSearch_RandomForest.best_params_['max_depth'],gridSearch_RandomForest.best_params_['min_samples_split'],gridSearch_RandomForest.best_params_['min_samples_leaf'] ))"
   ]
  },
  {
   "cell_type": "markdown",
   "id": "c63dafbe-0e3c-4b65-91e7-e1abc32c75f8",
   "metadata": {},
   "source": [
    "## *Random Forest Regressor Accuracy = 0.90*"
   ]
  },
  {
   "cell_type": "markdown",
   "id": "deee26fd-6fec-4702-ba62-959dbf2e0932",
   "metadata": {},
   "source": [
    "# Decision Tree Regressor"
   ]
  },
  {
   "cell_type": "code",
   "execution_count": 15,
   "id": "59d262a9-73e9-4488-af25-72051d60ad17",
   "metadata": {},
   "outputs": [],
   "source": [
    "DTmodel = DecisionTreeRegressor()\n",
    "\n",
    "param_grid = {\n",
    "    'max_depth': [10, 20, 30, None],\n",
    "    'min_samples_split': [2, 5, 10],\n",
    "    'min_samples_leaf': [1, 2, 4]\n",
    "}\n",
    "\n",
    "grid_search_DT = GridSearchCV(DTmodel, param_grid, scoring='r2', cv=3)\n",
    "grid_search_DT.fit(X_train, y_train)\n",
    "\n",
    "best_decision_tree = grid_search_DT.best_estimator_\n",
    "best_decision_tree_test_score = best_decision_tree.score(X_test, y_test)"
   ]
  },
  {
   "cell_type": "code",
   "execution_count": 16,
   "id": "9d356e04-a597-4ed0-80ac-899e73f66f87",
   "metadata": {},
   "outputs": [
    {
     "name": "stdout",
     "output_type": "stream",
     "text": [
      "The best Decision Tree R2 train score is: 0.74 with max_depth = 10, min_samples_split = 10 and min_samples_leaf = 1\n",
      "The best Decision Tree R2 test score is: 0.78 with max_depth = 10, min_samples_split = 10 and min_samples_leaf = 1\n"
     ]
    }
   ],
   "source": [
    "print('The best Decision Tree R2 train score is: {:.2f} with max_depth = {}, min_samples_split = {} and min_samples_leaf = {}'\n",
    "      .format(grid_search_DT.best_score_,\n",
    "              grid_search_DT.best_params_['max_depth'],\n",
    "              grid_search_DT.best_params_['min_samples_split'],\n",
    "              grid_search_DT.best_params_['min_samples_leaf']))\n",
    "\n",
    "print('The best Decision Tree R2 test score is: {:.2f} with max_depth = {}, min_samples_split = {} and min_samples_leaf = {}'\n",
    "      .format(best_decision_tree_test_score,\n",
    "              grid_search_DT.best_params_['max_depth'],\n",
    "              grid_search_DT.best_params_['min_samples_split'],\n",
    "              grid_search_DT.best_params_['min_samples_leaf']))"
   ]
  },
  {
   "cell_type": "markdown",
   "id": "fa81e337-f8e6-4d66-93e6-109d97db3a2c",
   "metadata": {},
   "source": [
    "## *Decision Tree Regressor Accuracy = 0.8*"
   ]
  },
  {
   "cell_type": "markdown",
   "id": "f112428c-ece5-4e87-bf2d-0e0a8684a7c8",
   "metadata": {},
   "source": [
    "# Support Vector Regression"
   ]
  },
  {
   "cell_type": "markdown",
   "id": "31cfc280-0af3-4971-b65d-771fcb098909",
   "metadata": {},
   "source": [
    "### (without scaling)"
   ]
  },
  {
   "cell_type": "code",
   "execution_count": 17,
   "id": "7cba471e-8c37-4ee6-a0f2-87fec6f4f792",
   "metadata": {},
   "outputs": [
    {
     "name": "stdout",
     "output_type": "stream",
     "text": [
      "C = 100000.00\n",
      " SVR R2 training: 0.37, R2 test: 0.35\n",
      "\n",
      "C = 150000.00\n",
      " SVR R2 training: 0.41, R2 test: 0.39\n",
      "\n",
      "C = 200000.00\n",
      " SVR R2 training: 0.43, R2 test: 0.41\n",
      "\n",
      "C = 250000.00\n",
      " SVR R2 training: 0.45, R2 test: 0.43\n",
      "\n"
     ]
    }
   ],
   "source": [
    "C=[100000,150000,200000,250000 ]\n",
    "for i in C:\n",
    "    svr_Model = SVR(C = i).fit(X_train, y_train)\n",
    "    r2_train_svr = svr_Model.score(X_train, y_train)\n",
    "    r2_test_svr=svr_Model.score(X_test, y_test)\n",
    "    print('C = {:.2f}\\n \\\n",
    "SVR R2 training: {:.2f}, R2 test: {:.2f}\\n'\n",
    "         .format(i, r2_train_svr, r2_test_svr))"
   ]
  },
  {
   "cell_type": "markdown",
   "id": "b04323a8-4d49-4d68-a67e-8ea60dee637a",
   "metadata": {},
   "source": [
    "### (with scaling)"
   ]
  },
  {
   "cell_type": "code",
   "execution_count": 18,
   "id": "f4463596-ea96-4120-acbe-b6597ac49b59",
   "metadata": {},
   "outputs": [],
   "source": [
    "svr_Model=SVR()\n",
    "\n",
    "param = {'C' : [100000,150000,200000,250000 ]}\n",
    "\n",
    "gridSearchSVR=GridSearchCV(svr_Model,param,scoring='r2',cv=5)\n",
    "gridSearchSVR.fit(X_trainscaled,y_trainscaled)\n",
    "\n",
    "\n",
    "best_SVR=gridSearchSVR.best_estimator_\n",
    "bestSVR_testScore=best_SVR.score(X_testscaled,y_testscaled)"
   ]
  },
  {
   "cell_type": "code",
   "execution_count": 19,
   "id": "c232ffc9-777e-4a4d-9159-d90213238853",
   "metadata": {},
   "outputs": [
    {
     "name": "stdout",
     "output_type": "stream",
     "text": [
      "The best R2 train score is : 0.39 with C = 250000.00\n",
      " \n",
      "The best R2 test score is : 0.42\n",
      " with Alpha = 250000.00\n",
      " \n"
     ]
    }
   ],
   "source": [
    "print('The best R2 train score is : {:.2f} with C = {:.2f}\\n \\\n",
    "'.format(gridSearchSVR.best_score_,gridSearchSVR.best_params_['C']))\n",
    "print('The best R2 test score is : {:.2f}\\n with Alpha = {:.2f}\\n \\\n",
    "'.format(bestSVR_testScore,gridSearchSVR.best_params_['C']))"
   ]
  },
  {
   "cell_type": "markdown",
   "id": "0d0bc44f-fe02-41d3-8904-3c3d3180b63c",
   "metadata": {},
   "source": [
    "### The accuracy of the model is better without scaling"
   ]
  },
  {
   "cell_type": "markdown",
   "id": "f6372a47-a76a-4c57-9955-ebdf2dded072",
   "metadata": {},
   "source": [
    "## *Support Vector Regression Accuracy = 0.43*"
   ]
  },
  {
   "cell_type": "code",
   "execution_count": 4,
   "id": "760e0a5f-eb15-4cb1-9b42-a0ba6bd7d31d",
   "metadata": {},
   "outputs": [
    {
     "data": {
      "text/html": [
       "<div>\n",
       "<style scoped>\n",
       "    .dataframe tbody tr th:only-of-type {\n",
       "        vertical-align: middle;\n",
       "    }\n",
       "\n",
       "    .dataframe tbody tr th {\n",
       "        vertical-align: top;\n",
       "    }\n",
       "\n",
       "    .dataframe thead th {\n",
       "        text-align: right;\n",
       "    }\n",
       "</style>\n",
       "<table border=\"1\" class=\"dataframe\">\n",
       "  <thead>\n",
       "    <tr style=\"text-align: right;\">\n",
       "      <th></th>\n",
       "      <th>Model</th>\n",
       "      <th>Accuracy</th>\n",
       "    </tr>\n",
       "  </thead>\n",
       "  <tbody>\n",
       "    <tr>\n",
       "      <th>0</th>\n",
       "      <td>Random Forest Regression</td>\n",
       "      <td>0.90</td>\n",
       "    </tr>\n",
       "    <tr>\n",
       "      <th>1</th>\n",
       "      <td>Decision Tree Regressor</td>\n",
       "      <td>0.80</td>\n",
       "    </tr>\n",
       "    <tr>\n",
       "      <th>2</th>\n",
       "      <td>Linear Regression</td>\n",
       "      <td>0.71</td>\n",
       "    </tr>\n",
       "    <tr>\n",
       "      <th>3</th>\n",
       "      <td>Support Vector Regression</td>\n",
       "      <td>0.43</td>\n",
       "    </tr>\n",
       "  </tbody>\n",
       "</table>\n",
       "</div>"
      ],
      "text/plain": [
       "                       Model  Accuracy\n",
       "0   Random Forest Regression      0.90\n",
       "1    Decision Tree Regressor      0.80\n",
       "2          Linear Regression      0.71\n",
       "3  Support Vector Regression      0.43"
      ]
     },
     "execution_count": 4,
     "metadata": {},
     "output_type": "execute_result"
    }
   ],
   "source": [
    "data = [['Random Forest Regression', 0.90],\n",
    "        ['Decision Tree Regressor', 0.80],\n",
    "        ['Linear Regression',0.71],\n",
    "        ['Support Vector Regression', 0.43],]\n",
    "\n",
    "columns = ['Model','Accuracy']\n",
    "df = pd.DataFrame(data, columns=columns)\n",
    "df"
   ]
  },
  {
   "cell_type": "code",
   "execution_count": null,
   "id": "f82c71f0-5c90-4f14-80c5-2b8c6435d7ee",
   "metadata": {},
   "outputs": [],
   "source": [
    "columns = ['Model','Accuracy']\n",
    "df = pd.DataFrame(data, columns=columns)\n",
    "\n",
    "plt.figure(figsize=(10, 6))\n",
    "plt.bar(df['Model'], df['Accuracy'], color='lightcoral')\n",
    "plt.xlabel('Model')\n",
    "plt.ylabel('Accuracy')\n",
    "plt.title('Model Accuracy Comparison')\n",
    "plt.xticks(rotation=45, ha='right')\n",
    "plt.tight_layout()\n",
    "plt.show()"
   ]
  },
  {
   "cell_type": "markdown",
   "id": "7422e13c-2839-4588-9b54-94c67010891c",
   "metadata": {},
   "source": [
    "# The best accuracy is that of random forest regressor with an r2 score of 0.90"
   ]
  },
  {
   "cell_type": "markdown",
   "id": "2c36c84d-2d8b-4b46-a77f-82662c5d17a3",
   "metadata": {},
   "source": [
    "# Testing on the test dataset with the random forest regressor "
   ]
  },
  {
   "cell_type": "code",
   "execution_count": 60,
   "id": "61062730-fcc5-4e84-9077-9a976d70eb78",
   "metadata": {},
   "outputs": [],
   "source": [
    "test = pd.read_csv('test.csv')\n",
    "test=test.drop(['Name','Value €'],axis=1)"
   ]
  },
  {
   "cell_type": "code",
   "execution_count": 61,
   "id": "49d6e419-e2e4-442e-be68-ddd7c0281180",
   "metadata": {},
   "outputs": [
    {
     "data": {
      "text/plain": [
       "[array([29., nan, 72., 56., 84., 76., 83., 86., 85., 38., 82., 42., 71.,\n",
       "        40., 74., 61., 83., 76., 73., 68., 78., 77., 69., 83., 53., 38.,\n",
       "        41., 45., 49., 56., 44., 12., 16., 12., 13., 17.])]"
      ]
     },
     "execution_count": 61,
     "metadata": {},
     "output_type": "execute_result"
    }
   ],
   "source": [
    "player=test.iloc[1,:].values\n",
    "[player]"
   ]
  },
  {
   "cell_type": "code",
   "execution_count": 62,
   "id": "b6d90b16-c8be-4566-8f73-4e573ecee579",
   "metadata": {},
   "outputs": [
    {
     "data": {
      "text/plain": [
       "29608942.400192406"
      ]
     },
     "execution_count": 62,
     "metadata": {},
     "output_type": "execute_result"
    }
   ],
   "source": [
    "best_randomForest.predict([player])[0]"
   ]
  },
  {
   "cell_type": "markdown",
   "id": "0098152c-d051-4b4d-8859-0ea2f213451f",
   "metadata": {},
   "source": [
    "### Actual Value =  103,500,000.0 <br> Predicted Value = 97166465.77380952"
   ]
  },
  {
   "cell_type": "code",
   "execution_count": 63,
   "id": "dfc3068b-3011-4370-8429-45051eacd890",
   "metadata": {},
   "outputs": [],
   "source": [
    "df = pd.read_csv('playerdatasernew.csv')"
   ]
  },
  {
   "cell_type": "code",
   "execution_count": 64,
   "id": "7dbe6b3b-84fa-4070-8cd3-a04840b6bd61",
   "metadata": {},
   "outputs": [],
   "source": [
    "pd.set_option('display.float_format', '{:,}'.format)"
   ]
  },
  {
   "cell_type": "code",
   "execution_count": 65,
   "id": "7ea0c3fa-88ef-4775-81f8-8562ac74e4be",
   "metadata": {},
   "outputs": [],
   "source": [
    "df_pred=pd.DataFrame(columns=['Name','Value', 'Prediction'])"
   ]
  },
  {
   "cell_type": "code",
   "execution_count": 66,
   "id": "649841d1-c1e6-4a62-9915-01c2de732f72",
   "metadata": {},
   "outputs": [],
   "source": [
    "df_pred['Name']= [i for i in df[:100].Name]"
   ]
  },
  {
   "cell_type": "code",
   "execution_count": 67,
   "id": "71d763bc-91d2-43a1-ac87-e08573304b39",
   "metadata": {},
   "outputs": [],
   "source": [
    "df_pred['Value']= [round(i,0) for i in df.loc[:99]['Value €']]"
   ]
  },
  {
   "cell_type": "code",
   "execution_count": 68,
   "id": "9f3829b2-c13a-421f-89a9-684a19f283bc",
   "metadata": {},
   "outputs": [],
   "source": [
    "player_stats=test.iloc[:,:].values\n",
    "df_pred['Prediction']=[round(best_randomForest.predict([player])[0],0) for player in player_stats[:100]]"
   ]
  },
  {
   "cell_type": "code",
   "execution_count": 69,
   "id": "253fa10f-9abf-4dfe-8728-cb8a5a3ed84e",
   "metadata": {},
   "outputs": [],
   "source": [
    "df_pred['Difference']= round(abs(df_pred['Value']-df_pred['Prediction']),0)"
   ]
  },
  {
   "cell_type": "code",
   "execution_count": 70,
   "id": "8f7fcd1d-7f80-406e-8cdc-0f0c42699edf",
   "metadata": {},
   "outputs": [
    {
     "data": {
      "text/html": [
       "<div>\n",
       "<style scoped>\n",
       "    .dataframe tbody tr th:only-of-type {\n",
       "        vertical-align: middle;\n",
       "    }\n",
       "\n",
       "    .dataframe tbody tr th {\n",
       "        vertical-align: top;\n",
       "    }\n",
       "\n",
       "    .dataframe thead th {\n",
       "        text-align: right;\n",
       "    }\n",
       "</style>\n",
       "<table border=\"1\" class=\"dataframe\">\n",
       "  <thead>\n",
       "    <tr style=\"text-align: right;\">\n",
       "      <th></th>\n",
       "      <th>Name</th>\n",
       "      <th>Value</th>\n",
       "      <th>Prediction</th>\n",
       "      <th>Difference</th>\n",
       "    </tr>\n",
       "  </thead>\n",
       "  <tbody>\n",
       "    <tr>\n",
       "      <th>0</th>\n",
       "      <td>Manuel Neuer</td>\n",
       "      <td>20,500,000.0</td>\n",
       "      <td>32,343,112.0</td>\n",
       "      <td>11,843,112.0</td>\n",
       "    </tr>\n",
       "    <tr>\n",
       "      <th>1</th>\n",
       "      <td>Lionel Messi</td>\n",
       "      <td>103,500,000.0</td>\n",
       "      <td>29,608,942.0</td>\n",
       "      <td>73,891,058.0</td>\n",
       "    </tr>\n",
       "    <tr>\n",
       "      <th>2</th>\n",
       "      <td>Jan Oblak</td>\n",
       "      <td>120,000,000.0</td>\n",
       "      <td>16,822,088.0</td>\n",
       "      <td>103,177,912.0</td>\n",
       "    </tr>\n",
       "    <tr>\n",
       "      <th>3</th>\n",
       "      <td>Kalidou Koulibaly</td>\n",
       "      <td>76,500,000.0</td>\n",
       "      <td>13,639,520.0</td>\n",
       "      <td>62,860,480.0</td>\n",
       "    </tr>\n",
       "    <tr>\n",
       "      <th>4</th>\n",
       "      <td>N'Golo Kanté</td>\n",
       "      <td>78,000,000.0</td>\n",
       "      <td>7,079,430.0</td>\n",
       "      <td>70,920,570.0</td>\n",
       "    </tr>\n",
       "    <tr>\n",
       "      <th>5</th>\n",
       "      <td>Alisson</td>\n",
       "      <td>88,000,000.0</td>\n",
       "      <td>22,997,598.0</td>\n",
       "      <td>65,002,402.0</td>\n",
       "    </tr>\n",
       "    <tr>\n",
       "      <th>6</th>\n",
       "      <td>Toni Kroos</td>\n",
       "      <td>87,500,000.0</td>\n",
       "      <td>23,764,555.0</td>\n",
       "      <td>63,735,445.0</td>\n",
       "    </tr>\n",
       "    <tr>\n",
       "      <th>7</th>\n",
       "      <td>Erling Haaland</td>\n",
       "      <td>122,500,000.0</td>\n",
       "      <td>10,093,919.0</td>\n",
       "      <td>112,406,081.0</td>\n",
       "    </tr>\n",
       "    <tr>\n",
       "      <th>8</th>\n",
       "      <td>Keylor Navas</td>\n",
       "      <td>33,500,000.0</td>\n",
       "      <td>3,859,203.0</td>\n",
       "      <td>29,640,797.0</td>\n",
       "    </tr>\n",
       "    <tr>\n",
       "      <th>9</th>\n",
       "      <td>Bruno Fernandes</td>\n",
       "      <td>121,000,000.0</td>\n",
       "      <td>18,242,796.0</td>\n",
       "      <td>102,757,204.0</td>\n",
       "    </tr>\n",
       "    <tr>\n",
       "      <th>10</th>\n",
       "      <td>Karim Benzema</td>\n",
       "      <td>83,500,000.0</td>\n",
       "      <td>25,682,928.0</td>\n",
       "      <td>57,817,072.0</td>\n",
       "    </tr>\n",
       "    <tr>\n",
       "      <th>11</th>\n",
       "      <td>Marc-André ter Stegen</td>\n",
       "      <td>110,000,000.0</td>\n",
       "      <td>24,474,897.0</td>\n",
       "      <td>85,525,103.0</td>\n",
       "    </tr>\n",
       "    <tr>\n",
       "      <th>12</th>\n",
       "      <td>Harry Kane</td>\n",
       "      <td>123,000,000.0</td>\n",
       "      <td>16,547,526.0</td>\n",
       "      <td>106,452,474.0</td>\n",
       "    </tr>\n",
       "    <tr>\n",
       "      <th>13</th>\n",
       "      <td>Joshua Kimmich</td>\n",
       "      <td>110,000,000.0</td>\n",
       "      <td>15,524,419.0</td>\n",
       "      <td>94,475,581.0</td>\n",
       "    </tr>\n",
       "    <tr>\n",
       "      <th>14</th>\n",
       "      <td>Sadio Mané</td>\n",
       "      <td>92,000,000.0</td>\n",
       "      <td>7,781,071.0</td>\n",
       "      <td>84,218,929.0</td>\n",
       "    </tr>\n",
       "    <tr>\n",
       "      <th>15</th>\n",
       "      <td>Robert Lewandowski</td>\n",
       "      <td>124,500,000.0</td>\n",
       "      <td>11,073,198.0</td>\n",
       "      <td>113,426,802.0</td>\n",
       "    </tr>\n",
       "    <tr>\n",
       "      <th>16</th>\n",
       "      <td>Leon Goretzka</td>\n",
       "      <td>94,500,000.0</td>\n",
       "      <td>6,381,774.0</td>\n",
       "      <td>88,118,226.0</td>\n",
       "    </tr>\n",
       "    <tr>\n",
       "      <th>17</th>\n",
       "      <td>Neymar Jr</td>\n",
       "      <td>132,000,000.0</td>\n",
       "      <td>17,228,507.0</td>\n",
       "      <td>114,771,493.0</td>\n",
       "    </tr>\n",
       "    <tr>\n",
       "      <th>18</th>\n",
       "      <td>Heung Min Son</td>\n",
       "      <td>110,000,000.0</td>\n",
       "      <td>11,603,946.0</td>\n",
       "      <td>98,396,054.0</td>\n",
       "    </tr>\n",
       "    <tr>\n",
       "      <th>19</th>\n",
       "      <td>Sergio Ramos</td>\n",
       "      <td>33,500,000.0</td>\n",
       "      <td>13,648,440.0</td>\n",
       "      <td>19,851,560.0</td>\n",
       "    </tr>\n",
       "  </tbody>\n",
       "</table>\n",
       "</div>"
      ],
      "text/plain": [
       "                     Name         Value   Prediction    Difference\n",
       "0            Manuel Neuer  20,500,000.0 32,343,112.0  11,843,112.0\n",
       "1            Lionel Messi 103,500,000.0 29,608,942.0  73,891,058.0\n",
       "2               Jan Oblak 120,000,000.0 16,822,088.0 103,177,912.0\n",
       "3       Kalidou Koulibaly  76,500,000.0 13,639,520.0  62,860,480.0\n",
       "4            N'Golo Kanté  78,000,000.0  7,079,430.0  70,920,570.0\n",
       "5                 Alisson  88,000,000.0 22,997,598.0  65,002,402.0\n",
       "6              Toni Kroos  87,500,000.0 23,764,555.0  63,735,445.0\n",
       "7          Erling Haaland 122,500,000.0 10,093,919.0 112,406,081.0\n",
       "8            Keylor Navas  33,500,000.0  3,859,203.0  29,640,797.0\n",
       "9         Bruno Fernandes 121,000,000.0 18,242,796.0 102,757,204.0\n",
       "10          Karim Benzema  83,500,000.0 25,682,928.0  57,817,072.0\n",
       "11  Marc-André ter Stegen 110,000,000.0 24,474,897.0  85,525,103.0\n",
       "12             Harry Kane 123,000,000.0 16,547,526.0 106,452,474.0\n",
       "13         Joshua Kimmich 110,000,000.0 15,524,419.0  94,475,581.0\n",
       "14             Sadio Mané  92,000,000.0  7,781,071.0  84,218,929.0\n",
       "15     Robert Lewandowski 124,500,000.0 11,073,198.0 113,426,802.0\n",
       "16          Leon Goretzka  94,500,000.0  6,381,774.0  88,118,226.0\n",
       "17              Neymar Jr 132,000,000.0 17,228,507.0 114,771,493.0\n",
       "18          Heung Min Son 110,000,000.0 11,603,946.0  98,396,054.0\n",
       "19           Sergio Ramos  33,500,000.0 13,648,440.0  19,851,560.0"
      ]
     },
     "execution_count": 70,
     "metadata": {},
     "output_type": "execute_result"
    }
   ],
   "source": [
    "df_pred[0:20]"
   ]
  },
  {
   "cell_type": "markdown",
   "id": "2e186a52-c958-4205-98fc-6d938f8fce1c",
   "metadata": {},
   "source": [
    "# Pickle Model"
   ]
  },
  {
   "cell_type": "code",
   "execution_count": 71,
   "id": "fdb75df5-1fc8-4d1f-8b6b-8654a171b132",
   "metadata": {},
   "outputs": [],
   "source": [
    "import pickle"
   ]
  },
  {
   "cell_type": "code",
   "execution_count": 72,
   "id": "ae8e1462-1f2a-4d57-a9c0-29343964096b",
   "metadata": {},
   "outputs": [],
   "source": [
    "pickle.dump(best_randomForest, open(\"model.pkl\",'wb'))"
   ]
  },
  {
   "cell_type": "code",
   "execution_count": 73,
   "id": "ed0d58b8-9c43-4bd4-a2dd-d4bff31975d9",
   "metadata": {},
   "outputs": [],
   "source": [
    "model=pickle.load(open(\"model.pkl\",'rb'))"
   ]
  }
 ],
 "metadata": {
  "kernelspec": {
   "display_name": "Python 3 (ipykernel)",
   "language": "python",
   "name": "python3"
  },
  "language_info": {
   "codemirror_mode": {
    "name": "ipython",
    "version": 3
   },
   "file_extension": ".py",
   "mimetype": "text/x-python",
   "name": "python",
   "nbconvert_exporter": "python",
   "pygments_lexer": "ipython3",
   "version": "3.12.2"
  }
 },
 "nbformat": 4,
 "nbformat_minor": 5
}
